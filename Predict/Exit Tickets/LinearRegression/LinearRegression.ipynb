{
 "cells": [
  {
   "cell_type": "code",
   "execution_count": 1,
   "metadata": {},
   "outputs": [],
   "source": [
    "import numpy as np\n",
    "import pandas as pd"
   ]
  },
  {
   "cell_type": "code",
   "execution_count": 2,
   "metadata": {},
   "outputs": [],
   "source": [
    "#Read in the csv into a dataframe and then yoink the columns\n",
    "\n",
    "df = pd.read_csv('ETData.csv')\n",
    "years = df['Years of Experience']\n",
    "salary = df['Salary']"
   ]
  },
  {
   "cell_type": "code",
   "execution_count": 3,
   "metadata": {},
   "outputs": [],
   "source": [
    "def clean_data(df, test_size=0.25):\n",
    "    # Drop rows with NaN values\n",
    "    df_cleaned = df.dropna()\n",
    "\n",
    "    # Shuffle the DataFrame\n",
    "    df_shuffled = df_cleaned.sample(frac=1).reset_index(drop=True)\n",
    "\n",
    "    # Split the data into training and testing sets\n",
    "    split_index = int(len(df_shuffled)*(1 - test_size))\n",
    "    train_df = df_shuffled[:split_index]\n",
    "    test_df = df_shuffled[split_index:]\n",
    "\n",
    "    years_train = train_df['Years of Experience']\n",
    "    salary_train = train_df['Salary']\n",
    "    years_test = test_df['Years of Experience']\n",
    "    salary_test = test_df['Salary']\n",
    "\n",
    "    return years_train, years_test, salary_train, salary_test"
   ]
  },
  {
   "cell_type": "code",
   "execution_count": 4,
   "metadata": {},
   "outputs": [],
   "source": [
    "def calculate_initial_slope(years, salary):\n",
    "    print(\"Starting Training\")\n",
    "\n",
    "    # Get the maximum and minimum values and their indices\n",
    "    yearsMax = years.max()\n",
    "    yearsMin = years.min()\n",
    "    idxMax = years.idxmax()\n",
    "    idxMin = years.idxmin()\n",
    "\n",
    "    # Calculate the initial slope\n",
    "    initialSlope = (salary[idxMax] - salary[idxMin]) / (yearsMax - yearsMin)\n",
    "\n",
    "    return initialSlope"
   ]
  },
  {
   "cell_type": "code",
   "execution_count": 5,
   "metadata": {},
   "outputs": [
    {
     "name": "stdout",
     "output_type": "stream",
     "text": [
      "Starting Training\n",
      "(8613.480341247212, 2.7963355116748025)\n"
     ]
    }
   ],
   "source": [
    "def train(years, salary, iterations, learning_rate):\n",
    "    # Handling missing values\n",
    "    df = pd.DataFrame({'Years': years, 'Salary': salary})\n",
    "    df.dropna(inplace=True)\n",
    "    years = df['Years']\n",
    "    salary = df['Salary']\n",
    "\n",
    "    # Using calculated initial slope\n",
    "    slope = calculate_initial_slope(years, salary)\n",
    "    intercept = 0\n",
    "\n",
    "    for iteration in range(iterations):\n",
    "        slope_grad = 0\n",
    "        intercept_grad = 0\n",
    "        N = len(years)\n",
    "\n",
    "        for x, y in zip(years, salary):\n",
    "            if x == 0:  # Skip this iteration if years of experience is 0\n",
    "                continue\n",
    "\n",
    "            y_pred = slope * x + intercept\n",
    "            error = y - y_pred\n",
    "\n",
    "            slope_grad += -2/N * x * error\n",
    "            intercept_grad += -2/N * error\n",
    "\n",
    "        slope -= learning_rate * slope_grad\n",
    "        intercept -= learning_rate * intercept_grad\n",
    "\n",
    "    return slope, intercept\n",
    "print(train(years, salary, 10, 0.00001))"
   ]
  },
  {
   "cell_type": "code",
   "execution_count": 27,
   "metadata": {},
   "outputs": [
    {
     "name": "stdout",
     "output_type": "stream",
     "text": [
      "Starting Training\n",
      "Slope: 6807.146764459766\n",
      "Intercept: 31692.440353390168\n",
      "Mean Squared Error: 325638565.2083961\n",
      "Root Mean Squared Error: 18045.458298652215\n",
      "Mean Absolute Percentage Error: 12.35310407577707 %\n"
     ]
    }
   ],
   "source": [
    "def test_model(years_train, salary_train, years_test, salary_test, iterations, learning_rate):\n",
    "    slope, intercept = train(years_train, salary_train, iterations, learning_rate)\n",
    "\n",
    "    if pd.isna(slope) or pd.isna(intercept):\n",
    "        print(\"Training resulted in NaN values for slope or intercept.\")\n",
    "        return None\n",
    "\n",
    "    # Predict the salaries for the testing set\n",
    "    salary_pred = slope * years_test + intercept\n",
    "\n",
    "    # Calculate the Mean Squared Error\n",
    "    mse = np.mean((salary_test - salary_pred) ** 2)\n",
    "    rmse = np.sqrt(mse)\n",
    "\n",
    "    # Calculate Mean Absolute Percentage Error (MAPE)\n",
    "    mape = np.mean(np.abs((salary_test - salary_pred) / salary_test)) * 100\n",
    "\n",
    "    return {\n",
    "        \"slope\": slope,\n",
    "        \"intercept\": intercept,\n",
    "        \"mse\": mse,\n",
    "        \"rmse\": rmse,\n",
    "        \"mape\": mape\n",
    "    }\n",
    "\n",
    "years_train, years_test, salary_train, salary_test = clean_data(df)\n",
    "results = test_model(years_train, salary_train, years_test, salary_test, 10000, 0.0011)\n",
    "\n",
    "if results:\n",
    "    print(\"Slope:\", results[\"slope\"])\n",
    "    print(\"Intercept:\", results[\"intercept\"])\n",
    "    print(\"Mean Squared Error:\", results[\"mse\"])\n",
    "    print(\"Root Mean Squared Error:\", results[\"rmse\"])\n",
    "    print(\"Mean Absolute Percentage Error:\", results[\"mape\"], \"%\")\n",
    "else:\n",
    "    print(\"Model training was unsuccessful.\")\n"
   ]
  },
  {
   "cell_type": "code",
   "execution_count": 7,
   "metadata": {},
   "outputs": [
    {
     "name": "stdout",
     "output_type": "stream",
     "text": [
      "Starting Training\n",
      "Starting Training\n",
      "Starting Training\n",
      "Starting Training\n",
      "Starting Training\n",
      "Starting Training\n",
      "Starting Training\n",
      "Starting Training\n",
      "Starting Training\n"
     ]
    },
    {
     "name": "stderr",
     "output_type": "stream",
     "text": [
      "C:\\Users\\tyler\\AppData\\Local\\Temp\\ipykernel_19196\\3368131560.py:24: RuntimeWarning: overflow encountered in scalar add\n",
      "  slope_grad += -2/N * x * error\n",
      "C:\\Users\\tyler\\AppData\\Local\\Temp\\ipykernel_19196\\3368131560.py:27: RuntimeWarning: invalid value encountered in scalar subtract\n",
      "  slope -= learning_rate * slope_grad\n"
     ]
    },
    {
     "name": "stdout",
     "output_type": "stream",
     "text": [
      "Best Learning Rate: 0.0011\n",
      "Best MAPE: 11.67473201097884 %\n"
     ]
    }
   ],
   "source": [
    "def find_best_learning_rate(years_train, salary_train, years_test, salary_test, iterations, min_lr, max_lr, lr_step):\n",
    "    best_mape = float('inf')\n",
    "    best_lr = None\n",
    "\n",
    "    current_lr = min_lr\n",
    "    while current_lr <= max_lr:\n",
    "        # Train the model with the current learning rate\n",
    "        slope, intercept = train(years_train, salary_train, iterations, current_lr)\n",
    "\n",
    "        if not pd.isna(slope) and not pd.isna(intercept):\n",
    "            # Predict the salaries for the testing set\n",
    "            salary_pred = slope * years_test + intercept\n",
    "\n",
    "            # Calculate Mean Absolute Percentage Error (MAPE)\n",
    "            mape = np.mean(np.abs((salary_test - salary_pred) / salary_test)) * 100\n",
    "\n",
    "            if mape < best_mape:\n",
    "                best_mape = mape\n",
    "                best_lr = current_lr\n",
    "\n",
    "        # Increment the learning rate\n",
    "        current_lr += lr_step\n",
    "\n",
    "    return best_lr, best_mape\n",
    "\n",
    "# Example usage\n",
    "years_train, years_test, salary_train, salary_test = clean_data(df)\n",
    "best_lr, best_mape = find_best_learning_rate(years_train, salary_train, years_test, salary_test, 10000, 0.0001, 0.009, 0.001)\n",
    "\n",
    "print(\"Best Learning Rate:\", best_lr)\n",
    "print(\"Best MAPE:\", best_mape, \"%\")\n"
   ]
  }
 ],
 "metadata": {
  "kernelspec": {
   "display_name": "Python 3",
   "language": "python",
   "name": "python3"
  },
  "language_info": {
   "codemirror_mode": {
    "name": "ipython",
    "version": 3
   },
   "file_extension": ".py",
   "mimetype": "text/x-python",
   "name": "python",
   "nbconvert_exporter": "python",
   "pygments_lexer": "ipython3",
   "version": "3.11.7"
  }
 },
 "nbformat": 4,
 "nbformat_minor": 2
}
