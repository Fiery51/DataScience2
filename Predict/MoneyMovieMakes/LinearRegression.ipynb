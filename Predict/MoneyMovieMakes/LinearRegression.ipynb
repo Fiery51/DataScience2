{
 "cells": [
  {
   "cell_type": "code",
   "execution_count": 1,
   "metadata": {},
   "outputs": [],
   "source": [
    "import seaborn as sns\n",
    "import numpy as np\n",
    "import pandas as pd\n",
    "import matplotlib.pyplot as plt"
   ]
  },
  {
   "cell_type": "code",
   "execution_count": 2,
   "metadata": {},
   "outputs": [],
   "source": [
    "#Load the data and make sure theres no missing lines\n",
    "trainDF = pd.read_csv(\"train.csv\")\n",
    "\n",
    "# Remove rows with missing data\n",
    "trainDF_cleaned = trainDF.dropna()\n",
    "\n",
    "# Optionally, save the cleaned data to a new CSV file\n",
    "trainDF_cleaned.to_csv('cleaned_training_data.csv', index=False)\n",
    "\n",
    "trainDF_cleaned = pd.read_csv(\"cleaned_training_data.csv\")"
   ]
  },
  {
   "cell_type": "code",
   "execution_count": 3,
   "metadata": {},
   "outputs": [],
   "source": [
    "def trainModel(df, learning_rate, iterations):\n",
    "    # Scale the data\n",
    "    df['budget_scaled'] = df['budget'] / 1000000\n",
    "    df['revenue_scaled'] = df['revenue'] / 1000000\n",
    "\n",
    "    slope = 0\n",
    "    intercept = 0\n",
    "\n",
    "    for i in range(iterations):\n",
    "        # Predicted revenues\n",
    "        predicted_revenues = slope * df['budget_scaled'] + intercept\n",
    "\n",
    "        # Calculate the difference between actual and predicted revenues\n",
    "        diff = df['revenue_scaled'] - predicted_revenues\n",
    "\n",
    "        # Gradient descent adjustments\n",
    "        slope_gradient = -2 * df['budget_scaled'].dot(diff) / len(df)\n",
    "        intercept_gradient = -2 * diff.mean()\n",
    "\n",
    "        # Update slope and intercept\n",
    "        slope -= learning_rate * slope_gradient\n",
    "        intercept -= learning_rate * intercept_gradient\n",
    "\n",
    "        # Monitor values\n",
    "        #if i % 10 == 0:  # Print every 10 iterations\n",
    "            #print(f\"Iteration {i}: Slope: {slope}, Intercept: {intercept}\")\n",
    "        \n",
    "    print(slope)\n",
    "    print(intercept)\n",
    "\n",
    "    return slope, intercept\n"
   ]
  },
  {
   "cell_type": "code",
   "execution_count": 4,
   "metadata": {},
   "outputs": [],
   "source": [
    "def testModel(test_df, slope, intercept):\n",
    "    # Predict revenue\n",
    "    predicted_revenue = slope * test_df['budget'] + intercept\n",
    "\n",
    "    # Actual revenue\n",
    "    actual_revenue = test_df['revenue']\n",
    "\n",
    "    # Calculate metrics\n",
    "    mse = ((predicted_revenue - actual_revenue) ** 2).mean()\n",
    "    rmse = np.sqrt(mse)\n",
    "    mae = (predicted_revenue - actual_revenue).abs().mean()\n",
    "    r_squared = 1 - (((actual_revenue - predicted_revenue) ** 2).sum() / ((actual_revenue - actual_revenue.mean()) ** 2).sum())\n",
    "\n",
    "    return mse, rmse, mae, r_squared * 100\n"
   ]
  },
  {
   "cell_type": "code",
   "execution_count": 5,
   "metadata": {},
   "outputs": [
    {
     "ename": "NameError",
     "evalue": "name 'train_test_split' is not defined",
     "output_type": "error",
     "traceback": [
      "\u001b[1;31m---------------------------------------------------------------------------\u001b[0m",
      "\u001b[1;31mNameError\u001b[0m                                 Traceback (most recent call last)",
      "Cell \u001b[1;32mIn[5], line 7\u001b[0m\n\u001b[0;32m      4\u001b[0m df \u001b[38;5;241m=\u001b[39m pd\u001b[38;5;241m.\u001b[39mread_csv(\u001b[38;5;124m'\u001b[39m\u001b[38;5;124mcleaned_training_data.csv\u001b[39m\u001b[38;5;124m'\u001b[39m)\n\u001b[0;32m      6\u001b[0m \u001b[38;5;66;03m# Split the data into training and testing sets (70% train, 30% test)\u001b[39;00m\n\u001b[1;32m----> 7\u001b[0m train_df, test_df \u001b[38;5;241m=\u001b[39m \u001b[43mtrain_test_split\u001b[49m(df, test_size\u001b[38;5;241m=\u001b[39m\u001b[38;5;241m0.3\u001b[39m, random_state\u001b[38;5;241m=\u001b[39m\u001b[38;5;241m42\u001b[39m)\n",
      "\u001b[1;31mNameError\u001b[0m: name 'train_test_split' is not defined"
     ]
    }
   ],
   "source": [
    "#split teh data because dumb training data lmao\n",
    "\n",
    "# Load your data\n",
    "df = pd.read_csv('cleaned_training_data.csv')\n",
    "\n",
    "# Split the data into training and testing sets (70% train, 30% test)\n",
    "train_df, test_df = train_test_split(df, test_size=0.3, random_state=42)\n"
   ]
  },
  {
   "cell_type": "code",
   "execution_count": null,
   "metadata": {},
   "outputs": [
    {
     "name": "stdout",
     "output_type": "stream",
     "text": [
      "3.5592111696741173\n",
      "0.2709356717072835\n"
     ]
    }
   ],
   "source": [
    "trained_slope, trained_intercept = trainModel(train_df, learning_rate=0.000001, iterations=3000)"
   ]
  },
  {
   "cell_type": "code",
   "execution_count": null,
   "metadata": {},
   "outputs": [
    {
     "name": "stdout",
     "output_type": "stream",
     "text": [
      "Mean Squared Error: 5.074463670965468e+16\n",
      "Root Mean Squared Error: 225265702.47078156\n",
      "Mean Absolute Error: 145382936.68975088\n",
      "R-squared Percentage: 65.18796878186494%\n"
     ]
    }
   ],
   "source": [
    "# Test the model using the testing set\n",
    "mse, rmse, mae, r_squared_percentage = testModel(test_df, trained_slope, trained_intercept)\n",
    "print(f\"Mean Squared Error: {mse}\")\n",
    "print(f\"Root Mean Squared Error: {rmse}\")\n",
    "print(f\"Mean Absolute Error: {mae}\")\n",
    "print(f\"R-squared Percentage: {r_squared_percentage}%\")\n"
   ]
  },
  {
   "cell_type": "code",
   "execution_count": null,
   "metadata": {},
   "outputs": [
    {
     "ename": "MemoryError",
     "evalue": "",
     "output_type": "error",
     "traceback": [
      "\u001b[1;31m---------------------------------------------------------------------------\u001b[0m",
      "\u001b[1;31mMemoryError\u001b[0m                               Traceback (most recent call last)",
      "Cell \u001b[1;32mIn[536], line 7\u001b[0m\n\u001b[0;32m      4\u001b[0m x_values \u001b[38;5;241m=\u001b[39m \u001b[38;5;28mrange\u001b[39m(\u001b[38;5;241m0\u001b[39m, \u001b[38;5;241m10000000000\u001b[39m)\n\u001b[0;32m      6\u001b[0m \u001b[38;5;66;03m# Calculate the corresponding y-values for the line\u001b[39;00m\n\u001b[1;32m----> 7\u001b[0m y_values \u001b[38;5;241m=\u001b[39m \u001b[43m[\u001b[49m\u001b[38;5;241;43m3.5592111696741173\u001b[39;49m\u001b[43m \u001b[49m\u001b[38;5;241;43m*\u001b[39;49m\u001b[43m \u001b[49m\u001b[43mx\u001b[49m\u001b[43m \u001b[49m\u001b[38;5;241;43m+\u001b[39;49m\u001b[43m \u001b[49m\u001b[38;5;241;43m0.2709356717072835\u001b[39;49m\u001b[43m \u001b[49m\u001b[38;5;28;43;01mfor\u001b[39;49;00m\u001b[43m \u001b[49m\u001b[43mx\u001b[49m\u001b[43m \u001b[49m\u001b[38;5;129;43;01min\u001b[39;49;00m\u001b[43m \u001b[49m\u001b[43mx_values\u001b[49m\u001b[43m]\u001b[49m\n\u001b[0;32m      9\u001b[0m \u001b[38;5;66;03m# Add the line to the plot\u001b[39;00m\n\u001b[0;32m     10\u001b[0m plt\u001b[38;5;241m.\u001b[39mplot(x_values, y_values, color\u001b[38;5;241m=\u001b[39m\u001b[38;5;124m'\u001b[39m\u001b[38;5;124mred\u001b[39m\u001b[38;5;124m'\u001b[39m)\n",
      "Cell \u001b[1;32mIn[536], line 7\u001b[0m, in \u001b[0;36m<listcomp>\u001b[1;34m(.0)\u001b[0m\n\u001b[0;32m      4\u001b[0m x_values \u001b[38;5;241m=\u001b[39m \u001b[38;5;28mrange\u001b[39m(\u001b[38;5;241m0\u001b[39m, \u001b[38;5;241m10000000000\u001b[39m)\n\u001b[0;32m      6\u001b[0m \u001b[38;5;66;03m# Calculate the corresponding y-values for the line\u001b[39;00m\n\u001b[1;32m----> 7\u001b[0m y_values \u001b[38;5;241m=\u001b[39m [\u001b[38;5;241m3.5592111696741173\u001b[39m \u001b[38;5;241m*\u001b[39m x \u001b[38;5;241m+\u001b[39m \u001b[38;5;241m0.2709356717072835\u001b[39m \u001b[38;5;28;01mfor\u001b[39;00m x \u001b[38;5;129;01min\u001b[39;00m x_values]\n\u001b[0;32m      9\u001b[0m \u001b[38;5;66;03m# Add the line to the plot\u001b[39;00m\n\u001b[0;32m     10\u001b[0m plt\u001b[38;5;241m.\u001b[39mplot(x_values, y_values, color\u001b[38;5;241m=\u001b[39m\u001b[38;5;124m'\u001b[39m\u001b[38;5;124mred\u001b[39m\u001b[38;5;124m'\u001b[39m)\n",
      "\u001b[1;31mMemoryError\u001b[0m: "
     ]
    },
    {
     "data": {
      "image/png": "[encoded data removed]",
      "text/plain": [
       "<Figure size 640x480 with 1 Axes>"
      ]
     },
     "metadata": {},
     "output_type": "display_data"
    }
   ],
   "source": [
    "graph = sns.scatterplot(trainDF_cleaned, x=\"budget\", y=\"revenue\")\n",
    "\n",
    "# Create a range of x-values\n",
    "x_values = range(0, 100000)\n",
    "\n",
    "# Calculate the corresponding y-values for the line\n",
    "y_values = [3.5592111696741173 * x + 0.2709356717072835 for x in x_values]\n",
    "\n",
    "# Add the line to the plot\n",
    "plt.plot(x_values, y_values, color='red')\n",
    "\n",
    "# Show the plot\n",
    "plt.show()\n"
   ]
  }
 ],
 "metadata": {
  "kernelspec": {
   "display_name": "Python 3",
   "language": "python",
   "name": "python3"
  },
  "language_info": {
   "codemirror_mode": {
    "name": "ipython",
    "version": 3
   },
   "file_extension": ".py",
   "mimetype": "text/x-python",
   "name": "python",
   "nbconvert_exporter": "python",
   "pygments_lexer": "ipython3",
   "version": "3.11.7"
  }
 },
 "nbformat": 4,
 "nbformat_minor": 2
}
