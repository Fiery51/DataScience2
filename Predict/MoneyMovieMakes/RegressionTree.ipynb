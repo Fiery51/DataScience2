{
 "cells": [
  {
   "cell_type": "code",
   "execution_count": 1,
   "metadata": {},
   "outputs": [],
   "source": [
    "import pandas as pd\n",
    "import numpy as np"
   ]
  },
  {
   "cell_type": "code",
   "execution_count": 2,
   "metadata": {},
   "outputs": [],
   "source": [
    "#Import the dataset\n",
    "trainDf = pd.read_csv(\"train.csv\")"
   ]
  },
  {
   "cell_type": "code",
   "execution_count": 3,
   "metadata": {},
   "outputs": [],
   "source": [
    "#Check for any missing values\n",
    "\n",
    "# Check for missing values\n",
    "missing_values = trainDf.isnull().sum()\n",
    "\n",
    "# Handling missing values\n",
    "# Drop rows with missing values\n",
    "trainDf = trainDf.dropna()\n"
   ]
  },
  {
   "cell_type": "code",
   "execution_count": 4,
   "metadata": {},
   "outputs": [
    {
     "name": "stdout",
     "output_type": "stream",
     "text": [
      "Mean Squared Error for Depth 2: 8759947868253539.0\n",
      "Mean Squared Error for Depth 3: 7071030456227958.0\n"
     ]
    }
   ],
   "source": [
    "import pandas as pd\n",
    "from sklearn.tree import DecisionTreeRegressor\n",
    "from sklearn.model_selection import train_test_split\n",
    "from sklearn.metrics import mean_squared_error\n",
    "\n",
    "def train_decision_tree_regressor(X_train, y_train, max_depth):\n",
    "    \"\"\"\n",
    "    Train a decision tree regression model with specified max depth.\n",
    "\n",
    "    Parameters:\n",
    "    X_train (DataFrame): The training feature data.\n",
    "    y_train (Series): The training target data.\n",
    "    max_depth (int): The maximum depth of the tree.\n",
    "\n",
    "    Returns:\n",
    "    DecisionTreeRegressor: The trained regression model.\n",
    "    \"\"\"\n",
    "    regressor = DecisionTreeRegressor(max_depth=max_depth)\n",
    "    regressor.fit(X_train, y_train)\n",
    "    return regressor\n",
    "\n",
    "def test_decision_tree_regressor(model, X_test, y_test):\n",
    "    \"\"\"\n",
    "    Test the decision tree regression model and calculate MSE.\n",
    "\n",
    "    Parameters:\n",
    "    model (DecisionTreeRegressor): The trained regression model.\n",
    "    X_test (DataFrame): The testing feature data.\n",
    "    y_test (Series): The testing target data.\n",
    "\n",
    "    Returns:\n",
    "    float: The mean squared error of the model on the test data.\n",
    "    \"\"\"\n",
    "    y_pred = model.predict(X_test)\n",
    "    mse = mean_squared_error(y_test, y_pred)\n",
    "    return mse\n",
    "\n",
    "# Load your data (replace 'your_data.csv' with the actual file path)\n",
    "data = pd.read_csv('train.csv')\n",
    "\n",
    "# Selecting features and the target\n",
    "features = ['budget', 'popularity', 'runtime']\n",
    "X = data[features]\n",
    "y = data['revenue']\n",
    "\n",
    "# Splitting the data into training and testing sets\n",
    "X_train, X_test, y_train, y_test = train_test_split(X, y, test_size=0.2, random_state=42)\n",
    "\n",
    "# Training the models with max_depth=2 and max_depth=3\n",
    "model_depth_2 = train_decision_tree_regressor(X_train, y_train, max_depth=2)\n",
    "model_depth_3 = train_decision_tree_regressor(X_train, y_train, max_depth=3)\n",
    "\n",
    "# Testing the models\n",
    "mse_depth_2 = test_decision_tree_regressor(model_depth_2, X_test, y_test)\n",
    "mse_depth_3 = test_decision_tree_regressor(model_depth_3, X_test, y_test)\n",
    "\n",
    "print(f'Mean Squared Error for Depth 2: {mse_depth_2}')\n",
    "print(f'Mean Squared Error for Depth 3: {mse_depth_3}')\n"
   ]
  }
 ],
 "metadata": {
  "kernelspec": {
   "display_name": "Python 3",
   "language": "python",
   "name": "python3"
  },
  "language_info": {
   "codemirror_mode": {
    "name": "ipython",
    "version": 3
   },
   "file_extension": ".py",
   "mimetype": "text/x-python",
   "name": "python",
   "nbconvert_exporter": "python",
   "pygments_lexer": "ipython3",
   "version": "3.11.7"
  }
 },
 "nbformat": 4,
 "nbformat_minor": 2
}
